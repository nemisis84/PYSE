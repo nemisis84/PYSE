{
 "cells": [
  {
   "cell_type": "code",
   "execution_count": 29,
   "metadata": {},
   "outputs": [],
   "source": [
    "import numpy as np\n",
    "import pandas as pd\n",
    "import matplotlib.pyplot as plt\n",
    "import math"
   ]
  },
  {
   "cell_type": "code",
   "execution_count": 20,
   "metadata": {},
   "outputs": [],
   "source": [
    "def calculate_availability(mu, lam, counters):\n",
    "    vals = [1]*(counters+1) \n",
    "\n",
    "    a = lam/mu\n",
    "    consts = [1]*counters\n",
    "    for i in range(counters):\n",
    "        consts[i] *= a*(i+1)\n",
    "    \n",
    "    for i in range(counters):\n",
    "        for j in range(i+1):\n",
    "            # print(consts[-j])\n",
    "            vals[i] *= consts[-(j+1)]\n",
    "\n",
    "    p_1 = 1/(sum(vals))\n",
    "    p = [1]*(counters+1)\n",
    "    p[0] = p_1\n",
    "    for i in range(1, len(p)):\n",
    "        p[i] = p_1*vals[i-1]\n",
    "\n",
    "    A = 1-(p_1*vals[-2])\n",
    "    return A, p\n"
   ]
  },
  {
   "cell_type": "code",
   "execution_count": 24,
   "metadata": {},
   "outputs": [
    {
     "name": "stdout",
     "output_type": "stream",
     "text": [
      "p1 = 0.7674004683840749\n",
      "p2 = 0.19185011709601874\n",
      "p3 = 0.03597189695550351\n",
      "p4 = 0.004496487119437939\n",
      "checksum = 1.0\n"
     ]
    },
    {
     "data": {
      "text/plain": [
       "'A = 0.9997189695550351'"
      ]
     },
     "execution_count": 24,
     "metadata": {},
     "output_type": "execute_result"
    }
   ],
   "source": [
    "mu = 1/15\n",
    "lam = 1/(4*60)\n",
    "A, p = calculate_availability(mu, lam, 4)\n",
    "\n",
    "for i in range(1,5):\n",
    "    print(f\"p{i} = {p[i-1]}\")\n",
    "print(f\"checksum = {sum(p)}\")\n",
    "f\"A = {A}\""
   ]
  },
  {
   "cell_type": "code",
   "execution_count": 36,
   "metadata": {},
   "outputs": [],
   "source": [
    "def C_formula(A, n):\n",
    "    upper = A**(n)*n/(math.factorial(n)*(n-A))\n",
    "    lower = 0\n",
    "    for i in range(n):\n",
    "        lower += A**(i)/math.factorial(i)\n",
    "    lower += A**(n)*n/(math.factorial(n)*(n-A))\n",
    "    return upper/lower\n",
    "\n",
    "\n",
    "def expected_waiting_time(A, mu, n):\n",
    "    return C_formula(A, n)/(mu*(n-A))"
   ]
  },
  {
   "cell_type": "code",
   "execution_count": 39,
   "metadata": {},
   "outputs": [
    {
     "data": {
      "text/plain": [
       "[0.0030418, 0.0278746, 0.25, 4.0]"
      ]
     },
     "execution_count": 39,
     "metadata": {},
     "output_type": "execute_result"
    }
   ],
   "source": [
    "mu = 1/2\n",
    "lam = 1/3\n",
    "T = []\n",
    "for i in range(4):\n",
    "    T.append(round(expected_waiting_time(lam/(mu), mu, i+1), 7))\n",
    "T.reverse()\n",
    "T"
   ]
  },
  {
   "cell_type": "code",
   "execution_count": 41,
   "metadata": {},
   "outputs": [
    {
     "name": "stdout",
     "output_type": "stream",
     "text": [
      "Expected waiting time = 0.034660946735363\n"
     ]
    }
   ],
   "source": [
    "expected_waiting_time = sum([T[i]*p[i] for i in range(len(T))])\n",
    "print(f\"Expected waiting time = {expected_waiting_time}\")"
   ]
  }
 ],
 "metadata": {
  "kernelspec": {
   "display_name": "Python 3.8.5 ('base')",
   "language": "python",
   "name": "python3"
  },
  "language_info": {
   "codemirror_mode": {
    "name": "ipython",
    "version": 3
   },
   "file_extension": ".py",
   "mimetype": "text/x-python",
   "name": "python",
   "nbconvert_exporter": "python",
   "pygments_lexer": "ipython3",
   "version": "3.8.5"
  },
  "orig_nbformat": 4,
  "vscode": {
   "interpreter": {
    "hash": "57468ee44aa95dd4e25b20d5089bdc40d0474ae5901f7acf4c61317f32db0a15"
   }
  }
 },
 "nbformat": 4,
 "nbformat_minor": 2
}
