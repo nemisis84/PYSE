{
 "cells": [
  {
   "cell_type": "code",
   "execution_count": 1,
   "metadata": {},
   "outputs": [],
   "source": [
    "import numpy as np\n",
    "import pandas as pd\n",
    "import matplotlib.pyplot as plt\n",
    "import math\n",
    "from sympy import symbols, solve"
   ]
  },
  {
   "cell_type": "code",
   "execution_count": 62,
   "metadata": {},
   "outputs": [
    {
     "name": "stdout",
     "output_type": "stream",
     "text": [
      "0.0625\n",
      "1 1 0.25 0.0625\n",
      "2 1 0.25 0.0625\n",
      "2 2 0.046875 0.125\n",
      "3 1 0.25 0.0625\n",
      "3 2 0.046875 0.125\n",
      "3 3 0.005859375 0.1875\n",
      "4 1 0.25 0.0625\n",
      "4 2 0.046875 0.125\n",
      "4 3 0.005859375 0.1875\n",
      "4 4 0.0003662109375 0.25\n",
      "[1, 0.25, 0.046875, 0.005859375, 0.0003662109375]\n"
     ]
    },
    {
     "data": {
      "text/plain": [
       "0.9998409922086182"
      ]
     },
     "execution_count": 62,
     "metadata": {},
     "output_type": "execute_result"
    }
   ],
   "source": [
    "def C_formula(A, n):\n",
    "    upper = A**(n)*n/(math.factorial(n)*(n-A))\n",
    "    lower = 0\n",
    "    for i in range(n):\n",
    "        lower += A**(i)/math.factorial(i)\n",
    "    lower += A**(n)*n/(math.factorial(n)*(n-A))\n",
    "    return upper/lower\n",
    "\n",
    "def expected_waiting_time(A, mu, n):\n",
    "    return C_formula(A, n)/(mu*(n-A))\n",
    "\n",
    "def calculate_availability(mu, lam, counters):\n",
    "    p = [1]*(counters+1) #Lager liste for hver p-verdiene fra og med 2\n",
    "\n",
    "    a = lam/mu\n",
    "    print(a)\n",
    "    for i in range(counters+1):\n",
    "        for j in range(1, i+1):\n",
    "            p[i] *= a*(5-j)\n",
    "            print(i, j, p[i], a*j)\n",
    "    # for i in range(0, counters+1): #Loop over p-verdiene\n",
    "    #     for j in range(1, i+1):  \n",
    "    #         p[i] *= (j)*lam/mu #Multipliser med j*lambda/mu for hver verdi. \n",
    "    \n",
    "    \n",
    "    p_1 = 1/(+1)\n",
    "    \n",
    "    A = 1-(p_1*p[-1])\n",
    "    return A\n",
    "\n",
    "mu = 1/15\n",
    "lam = 1/240\n",
    "calculate_availability(mu, lam, 4)"
   ]
  },
  {
   "cell_type": "code",
   "execution_count": 56,
   "metadata": {},
   "outputs": [
    {
     "name": "stdout",
     "output_type": "stream",
     "text": [
      "2 1 0.0625\n",
      "3 1 0.0625\n",
      "3 2 0.0078125\n",
      "4 1 0.0625\n",
      "4 2 0.0078125\n",
      "4 3 0.00146484375\n",
      "[1, 1, 0.0625, 0.0078125, 0.00146484375]\n",
      "2 1 0.0625\n",
      "3 1 0.0625\n",
      "3 2 0.0078125\n",
      "[1, 1, 0.0625, 0.0078125]\n",
      "2 1 0.0625\n",
      "[1, 1, 0.0625]\n",
      "[1, 1]\n"
     ]
    },
    {
     "data": {
      "text/plain": [
       "(0.9995231282784931,\n",
       " 0.9974554707379135,\n",
       " 0.9795918367346939,\n",
       " 0.6666666666666667)"
      ]
     },
     "execution_count": 56,
     "metadata": {},
     "output_type": "execute_result"
    }
   ],
   "source": [
    "mu = 1/15\n",
    "lam = 1/240\n",
    "n = range(4)\n",
    "A = 10672/10675\n",
    "\n",
    "calculate_availability(mu, lam, 4), calculate_availability(mu, lam, 3), calculate_availability(mu, lam, 2), calculate_availability(mu, lam, 1)"
   ]
  }
 ],
 "metadata": {
  "kernelspec": {
   "display_name": "Python 3.8.5 ('base')",
   "language": "python",
   "name": "python3"
  },
  "language_info": {
   "codemirror_mode": {
    "name": "ipython",
    "version": 3
   },
   "file_extension": ".py",
   "mimetype": "text/x-python",
   "name": "python",
   "nbconvert_exporter": "python",
   "pygments_lexer": "ipython3",
   "version": "3.8.5"
  },
  "orig_nbformat": 4,
  "vscode": {
   "interpreter": {
    "hash": "57468ee44aa95dd4e25b20d5089bdc40d0474ae5901f7acf4c61317f32db0a15"
   }
  }
 },
 "nbformat": 4,
 "nbformat_minor": 2
}
