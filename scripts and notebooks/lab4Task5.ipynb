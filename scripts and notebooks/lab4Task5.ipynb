{
 "cells": [
  {
   "cell_type": "code",
   "execution_count": 1,
   "metadata": {},
   "outputs": [],
   "source": [
    "import numpy as np\n",
    "import pandas as pd\n",
    "import matplotlib.pyplot as plt\n",
    "import math\n",
    "from sympy import symbols, solve"
   ]
  },
  {
   "cell_type": "code",
   "execution_count": 2,
   "metadata": {},
   "outputs": [
    {
     "data": {
      "text/plain": [
       "[0.9411764705882353, 0.993103448275862, 0.9987917841320982, 0.9997189695550351]"
      ]
     },
     "execution_count": 2,
     "metadata": {},
     "output_type": "execute_result"
    }
   ],
   "source": [
    "def C_formula(A, n):\n",
    "    upper = A**(n)*n/(math.factorial(n)*(n-A))\n",
    "    lower = 0\n",
    "    for i in range(n):\n",
    "        lower += A**(i)/math.factorial(i)\n",
    "    lower += A**(n)*n/(math.factorial(n)*(n-A))\n",
    "    return upper/lower\n",
    "\n",
    "def expected_waiting_time(A, mu, n):\n",
    "    return C_formula(A, n)/(mu*(n-A))\n",
    "\n",
    "def calculate_availability(mu, lam, counters):\n",
    "    p = [1]*(counters+1) #Lager liste for hver p-verdiene fra og med 2\n",
    "\n",
    "    a = lam/mu\n",
    "    consts = [1]*counters\n",
    "    for i in range(counters):\n",
    "        consts[i] *= a*(i+1)\n",
    "    \n",
    "    for i in range(counters):\n",
    "        for j in range(i+1):\n",
    "            # print(consts[-j])\n",
    "            p[i] *= consts[-(j+1)]\n",
    "\n",
    "    p_1 = 1/(sum(p))\n",
    "    A = 1-(p_1*p[-2])\n",
    "    return A\n",
    "mu = 1/15\n",
    "lam = 1/(4*60)\n",
    "A = []\n",
    "for i in range(4):\n",
    "    A.append(calculate_availability(mu, lam, i+1))\n",
    "A"
   ]
  },
  {
   "cell_type": "code",
   "execution_count": 9,
   "metadata": {},
   "outputs": [
    {
     "name": "stdout",
     "output_type": "stream",
     "text": [
      "counters 1: 0.6\n",
      "counters 2: 0.7241379310344828\n",
      "counters 3: 0.7611940298507462\n",
      "counters 4: 0.7726465364120781\n"
     ]
    },
    {
     "data": {
      "text/plain": [
       "[4.0, 0.25, 0.0278746, 0.0030418]"
      ]
     },
     "execution_count": 9,
     "metadata": {},
     "output_type": "execute_result"
    }
   ],
   "source": [
    "mu = 1/2\n",
    "lam = 1/3\n",
    "A = []\n",
    "T = []\n",
    "for i in range(4):\n",
    "    A.append(calculate_availability(mu, lam, i+1))\n",
    "    print(f\"counters {i+1}: {A[i]}\")\n",
    "    T.append(round(expected_waiting_time(lam/(mu), mu, i+1),7))\n",
    "\n",
    "T"
   ]
  },
  {
   "cell_type": "code",
   "execution_count": 4,
   "metadata": {},
   "outputs": [
    {
     "data": {
      "text/plain": [
       "Text(0.5, 1.0, 'Waiting times with different amount of counters')"
      ]
     },
     "execution_count": 4,
     "metadata": {},
     "output_type": "execute_result"
    },
    {
     "data": {
      "image/png": "[encoded data removed]",
      "text/plain": [
       "<Figure size 432x288 with 1 Axes>"
      ]
     },
     "metadata": {
      "needs_background": "light"
     },
     "output_type": "display_data"
    }
   ],
   "source": [
    "fig, ax = plt.subplots()\n",
    "# ax.plot(range(1,5), T)\n",
    "ax.scatter(range(1,5), T)\n",
    "ax.grid()\n",
    "ax.set_xlim((0.5, 4.5))\n",
    "ax.set_xlabel('Counters')\n",
    "ax.set_ylabel('Waiting time')\n",
    "ax.set_title(\"Waiting times with different amount of counters\")"
   ]
  },
  {
   "cell_type": "code",
   "execution_count": 8,
   "metadata": {},
   "outputs": [
    {
     "name": "stdout",
     "output_type": "stream",
     "text": [
      "[0.15616611470489544] [2.267598629670062]\n",
      "Results:\n",
      "Availability A = 1.0\n",
      "A std = 0.0\n",
      "Mean queue time T_q = 0.15623182459914198\n",
      "Queue time std=2.2692226625965306\n"
     ]
    },
    {
     "name": "stderr",
     "output_type": "stream",
     "text": [
      "<ipython-input-8-cebb0fc0f7cc>:16: VisibleDeprecationWarning: Creating an ndarray from ragged nested sequences (which is a list-or-tuple of lists-or-tuples-or ndarrays with different lengths or shapes) is deprecated. If you meant to do this, you must specify 'dtype=object' when creating the ndarray\n",
      "  queue_times_list = np.hstack(np.array(queue_times_list))\n"
     ]
    }
   ],
   "source": [
    "import lab4sim as sim \n",
    "\n",
    "queue_times_list = []\n",
    "down_time_list = []\n",
    "waiting_time_and_counters = {}\n",
    "\n",
    "A_list = []\n",
    "for i in range(3*365):\n",
    "    queue_times = []\n",
    "    down_time = 0\n",
    "    waiting_time_and_counters, queue_times, down_time, A_list = sim.simulate(queue_times_list, down_time_list,\n",
    "                waiting_time_and_counters, queue_times, down_time, A_list)\n",
    "    queue_times_list.append(np.array(queue_times))\n",
    "    down_time_list.append(down_time)\n",
    "\n",
    "queue_times_list = np.hstack(np.array(queue_times_list))\n",
    "A_list = np.hstack(np.array(A_list))\n",
    "mean, std = sim.calculate_queue_time(waiting_time_and_counters)\n",
    "print(mean, std)\n",
    "print(\n",
    "    f'Results:\\nAvailability A = {A_list.mean()}\\nA std = {A_list.std()}\\nMean queue time T_q = {queue_times_list.mean()}\\nQueue time std={queue_times_list.std()}')\n"
   ]
  },
  {
   "cell_type": "code",
   "execution_count": 6,
   "metadata": {},
   "outputs": [
    {
     "data": {
      "text/plain": [
       "array([1., 1., 1., ..., 1., 1., 1.])"
      ]
     },
     "execution_count": 6,
     "metadata": {},
     "output_type": "execute_result"
    }
   ],
   "source": []
  }
 ],
 "metadata": {
  "kernelspec": {
   "display_name": "Python 3.8.5 ('base')",
   "language": "python",
   "name": "python3"
  },
  "language_info": {
   "codemirror_mode": {
    "name": "ipython",
    "version": 3
   },
   "file_extension": ".py",
   "mimetype": "text/x-python",
   "name": "python",
   "nbconvert_exporter": "python",
   "pygments_lexer": "ipython3",
   "version": "3.8.5"
  },
  "orig_nbformat": 4,
  "vscode": {
   "interpreter": {
    "hash": "57468ee44aa95dd4e25b20d5089bdc40d0474ae5901f7acf4c61317f32db0a15"
   }
  }
 },
 "nbformat": 4,
 "nbformat_minor": 2
}
