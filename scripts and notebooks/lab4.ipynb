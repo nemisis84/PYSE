{
 "cells": [
  {
   "cell_type": "code",
   "execution_count": 69,
   "metadata": {},
   "outputs": [],
   "source": [
    "import numpy as np\n",
    "import pandas as pd\n",
    "import matplotlib.pyplot as plt\n",
    "import math\n",
    "from sympy import symbols, solve\n",
    "from sympy.plotting import plot"
   ]
  },
  {
   "cell_type": "code",
   "execution_count": 112,
   "metadata": {},
   "outputs": [
    {
     "name": "stdout",
     "output_type": "stream",
     "text": [
      "[0.006756756756756757, 0.020833333333333332, 0.006756756756756757, 0.01282051282051282, 0.02631578947368421, 0.004032258064516129]\n"
     ]
    },
    {
     "data": {
      "text/plain": [
       "[0.9722222222222222,\n",
       " 0.9761904761904762,\n",
       " 0.9761904761904762,\n",
       " 0.9666666666666667,\n",
       " 0.9833333333333333,\n",
       " 0.9888888888888889]"
      ]
     },
     "execution_count": 112,
     "metadata": {},
     "output_type": "execute_result"
    }
   ],
   "source": [
    "lam = 1\n",
    "N = np.array([150, 50, 150, 80, 40, 250])\n",
    "mu = np.array([36, 42, 42, 30, 60, 90])\n",
    "transitions = [lam/(N[i]-2) for i in range(len(N))]\n",
    "\n",
    "def calulate_section_availability(transitions, mu):\n",
    "    return [1-(transitions[i]/(transitions[i]*mu[i])) for i in range(len(transitions))]\n",
    "\n",
    "section_availability = calulate_section_availability(transitions, mu)\n",
    "section_availability"
   ]
  },
  {
   "cell_type": "code",
   "execution_count": 56,
   "metadata": {},
   "outputs": [
    {
     "data": {
      "text/plain": [
       "0.9414142683536606"
      ]
     },
     "execution_count": 56,
     "metadata": {},
     "output_type": "execute_result"
    }
   ],
   "source": [
    "def availability_func(a: list):\n",
    "    return (1-(1-a[0]*a[3])*(1-a[4]))*a[1]*a[2]*a[5]\n",
    "\n",
    "availability_func(section_availability)"
   ]
  },
  {
   "cell_type": "code",
   "execution_count": 57,
   "metadata": {},
   "outputs": [
    {
     "data": {
      "text/plain": [
       "[0.9414142683536606,\n",
       " 0.9706627826870025,\n",
       " 0.9804344176722799,\n",
       " 0.9853233720139805,\n",
       " 0.9882576156509181,\n",
       " 0.9902141099671458,\n",
       " 0.9916117586379938,\n",
       " 0.9926600748892986,\n",
       " 0.9934754775697644,\n",
       " 0.9941278276303388,\n",
       " 0.9946615866196747,\n",
       " 0.9951063979344446,\n",
       " 0.9954827852302423,\n",
       " 0.9958054090202832,\n",
       " 0.9960850208099358]"
      ]
     },
     "execution_count": 57,
     "metadata": {},
     "output_type": "execute_result"
    }
   ],
   "source": [
    "\n",
    "max_employees = 15\n",
    "availebilites = []\n",
    "for employees in range(1, max_employees+1):\n",
    "    section_availability = calulate_section_availability(transitions, mu*employees)\n",
    "    availebilites.append(availability_func(section_availability))\n",
    "\n",
    "availebilites\n"
   ]
  },
  {
   "cell_type": "code",
   "execution_count": 115,
   "metadata": {},
   "outputs": [
    {
     "data": {
      "text/plain": [
       "Text(0.5, 1.0, 'Availability')"
      ]
     },
     "execution_count": 115,
     "metadata": {},
     "output_type": "execute_result"
    },
    {
     "data": {
      "image/png": "[encoded data removed]",
      "text/plain": [
       "<Figure size 432x288 with 1 Axes>"
      ]
     },
     "metadata": {
      "needs_background": "light"
     },
     "output_type": "display_data"
    }
   ],
   "source": [
    "fig, ax = plt.subplots()\n",
    "ax.plot(range(1,16), availebilites)\n",
    "ax.scatter(range(1,16), availebilites)\n",
    "ax.grid()\n",
    "ax.set_xlim((0.5, 15.5))\n",
    "ax.set_xlabel('Employees')\n",
    "ax.set_ylabel('Availability')\n",
    "ax.set_title(\"Availability with multiple employees\")"
   ]
  },
  {
   "cell_type": "code",
   "execution_count": 102,
   "metadata": {},
   "outputs": [],
   "source": [
    "def reliability_func(transitions:list):\n",
    "    t = symbols('t')\n",
    "    return math.e**(-sum(transitions)*t)\n",
    "\n",
    "def reliability_func(transitions:list, t):\n",
    "    return math.e**(-sum(transitions)*t)\n",
    "\n",
    "x = np.linspace(0,60,10000)\n",
    "\n",
    "R = reliability_func(transitions,x)"
   ]
  },
  {
   "cell_type": "code",
   "execution_count": 109,
   "metadata": {},
   "outputs": [
    {
     "data": {
      "text/plain": [
       "Text(0.5, 1.0, 'Reliability function')"
      ]
     },
     "execution_count": 109,
     "metadata": {},
     "output_type": "execute_result"
    },
    {
     "data": {
      "image/png": "[encoded data removed]",
      "text/plain": [
       "<Figure size 432x288 with 1 Axes>"
      ]
     },
     "metadata": {
      "needs_background": "light"
     },
     "output_type": "display_data"
    }
   ],
   "source": [
    "fig, ax = plt.subplots()\n",
    "ax.plot(x,R)\n",
    "ax.grid()\n",
    "ax.set_xlim((0, 60))\n",
    "ax.set_xlabel('t[s]')\n",
    "ax.set_ylabel('R(t)')\n",
    "ax.set_title(\"Reliability function\")"
   ]
  }
 ],
 "metadata": {
  "kernelspec": {
   "display_name": "Python 3.8.5 ('base')",
   "language": "python",
   "name": "python3"
  },
  "language_info": {
   "codemirror_mode": {
    "name": "ipython",
    "version": 3
   },
   "file_extension": ".py",
   "mimetype": "text/x-python",
   "name": "python",
   "nbconvert_exporter": "python",
   "pygments_lexer": "ipython3",
   "version": "3.8.5"
  },
  "orig_nbformat": 4,
  "vscode": {
   "interpreter": {
    "hash": "57468ee44aa95dd4e25b20d5089bdc40d0474ae5901f7acf4c61317f32db0a15"
   }
  }
 },
 "nbformat": 4,
 "nbformat_minor": 2
}
