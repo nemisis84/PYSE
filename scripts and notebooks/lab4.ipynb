{
 "cells": [
  {
   "cell_type": "code",
   "execution_count": 6,
   "metadata": {},
   "outputs": [],
   "source": [
    "import numpy as np\n",
    "import pandas as pd\n",
    "import matplotlib.pyplot as plt\n",
    "import math\n",
    "from sympy import symbols, solve\n",
    "from sympy.plotting import plot"
   ]
  },
  {
   "cell_type": "code",
   "execution_count": 7,
   "metadata": {},
   "outputs": [
    {
     "data": {
      "text/plain": [
       "[0.8043478260869565,\n",
       " 0.5333333333333332,\n",
       " 0.7789473684210526,\n",
       " 0.7222222222222223,\n",
       " 0.3877551020408163,\n",
       " 0.7337278106508875]"
      ]
     },
     "execution_count": 7,
     "metadata": {},
     "output_type": "execute_result"
    }
   ],
   "source": [
    "lam = 1\n",
    "N = np.array([150, 50, 150, 80, 40, 250])\n",
    "mu = np.array([36, 42, 42, 30, 60, 90])\n",
    "mu = [1/mu[i] for i in range(len(mu))]\n",
    "transitions = [lam/(N[i]-2) for i in range(len(N))]\n",
    "\n",
    "def calulate_section_availability(transitions, mu):\n",
    "    return [1-(transitions[i]/(transitions[i]+mu[i])) for i in range(len(transitions))]\n",
    "\n",
    "section_availability = calulate_section_availability(transitions, mu)\n",
    "section_availability"
   ]
  },
  {
   "cell_type": "code",
   "execution_count": 8,
   "metadata": {},
   "outputs": [
    {
     "data": {
      "text/plain": [
       "0.2266081585798939"
      ]
     },
     "execution_count": 8,
     "metadata": {},
     "output_type": "execute_result"
    }
   ],
   "source": [
    "def availability_func(a: list):\n",
    "    return (1-(1-a[0]*a[3])*(1-a[4]))*a[1]*a[2]*a[5]\n",
    "\n",
    "availability_func(section_availability)"
   ]
  },
  {
   "cell_type": "code",
   "execution_count": 9,
   "metadata": {},
   "outputs": [
    {
     "data": {
      "text/plain": [
       "[0.2266081585798939,\n",
       " 0.4582644359052558,\n",
       " 0.5917740206998455,\n",
       " 0.6745934841151228,\n",
       " 0.7302221046076754,\n",
       " 0.7699306929145467,\n",
       " 0.7996087203196751,\n",
       " 0.82259083190328,\n",
       " 0.8408936568383548,\n",
       " 0.8558036582695929,\n",
       " 0.868178171614255,\n",
       " 0.878609641340049,\n",
       " 0.8875201313578439,\n",
       " 0.895218224013354,\n",
       " 0.9019346233608336,\n",
       " 0.9078451870793426,\n",
       " 0.9130862637551435,\n",
       " 0.9177651690532727,\n",
       " 0.9219675040530485,\n",
       " 0.9257623708514078]"
      ]
     },
     "execution_count": 9,
     "metadata": {},
     "output_type": "execute_result"
    }
   ],
   "source": [
    "\n",
    "max_employees = 20\n",
    "availebilites = []\n",
    "for employees in range(1, max_employees+1):\n",
    "    section_availability = calulate_section_availability(transitions, [mu[i]*employees for i in range(len(mu))])\n",
    "    availebilites.append(availability_func(section_availability))\n",
    "\n",
    "availebilites\n"
   ]
  },
  {
   "cell_type": "code",
   "execution_count": 10,
   "metadata": {},
   "outputs": [
    {
     "data": {
      "text/plain": [
       "Text(0.5, 1.0, 'Availability with multiple employees')"
      ]
     },
     "execution_count": 10,
     "metadata": {},
     "output_type": "execute_result"
    },
    {
     "data": {
      "image/png": "[encoded data removed]",
      "text/plain": [
       "<Figure size 432x288 with 1 Axes>"
      ]
     },
     "metadata": {
      "needs_background": "light"
     },
     "output_type": "display_data"
    }
   ],
   "source": [
    "fig, ax = plt.subplots()\n",
    "ax.plot(range(1,21), availebilites)\n",
    "ax.scatter(range(1,21), availebilites)\n",
    "ax.grid()\n",
    "ax.set_xlim((0.5, 20.5))\n",
    "ax.set_xlabel('Employees')\n",
    "ax.set_ylabel('Availability')\n",
    "ax.set_title(\"Availability with multiple employees\")"
   ]
  },
  {
   "cell_type": "code",
   "execution_count": 11,
   "metadata": {},
   "outputs": [],
   "source": [
    "def reliability_func(transitions:list, t):\n",
    "    R = [np.exp(-transitions[i]*t) for i in range(len(transitions))]\n",
    "    return (1-(1-R[0]*R[3])*(1-R[3]))*R[1]*R[2]*R[5]\n",
    "\n",
    "\n",
    "x = np.linspace(0,100,10000)\n",
    "R = reliability_func(transitions,x)"
   ]
  },
  {
   "cell_type": "code",
   "execution_count": 12,
   "metadata": {},
   "outputs": [
    {
     "data": {
      "text/plain": [
       "Text(0.5, 1.0, 'Reliability function')"
      ]
     },
     "execution_count": 12,
     "metadata": {},
     "output_type": "execute_result"
    },
    {
     "data": {
      "image/png": "[encoded data removed]",
      "text/plain": [
       "<Figure size 432x288 with 1 Axes>"
      ]
     },
     "metadata": {
      "needs_background": "light"
     },
     "output_type": "display_data"
    }
   ],
   "source": [
    "fig, ax = plt.subplots()\n",
    "ax.plot(x,R)\n",
    "ax.grid()\n",
    "ax.set_xlim((0, 100))\n",
    "ax.set_ylim((0, 1.1))\n",
    "ax.set_xlabel('t[min]')\n",
    "ax.set_ylabel('R(t)')\n",
    "ax.set_title(\"Reliability function\")"
   ]
  },
  {
   "cell_type": "code",
   "execution_count": 13,
   "metadata": {},
   "outputs": [
    {
     "data": {
      "text/plain": [
       "0.094352"
      ]
     },
     "execution_count": 13,
     "metadata": {},
     "output_type": "execute_result"
    }
   ],
   "source": [
    "round(reliability_func(transitions, 60),6)"
   ]
  }
 ],
 "metadata": {
  "kernelspec": {
   "display_name": "Python 3.8.5 ('base')",
   "language": "python",
   "name": "python3"
  },
  "language_info": {
   "codemirror_mode": {
    "name": "ipython",
    "version": 3
   },
   "file_extension": ".py",
   "mimetype": "text/x-python",
   "name": "python",
   "nbconvert_exporter": "python",
   "pygments_lexer": "ipython3",
   "version": "3.8.5"
  },
  "orig_nbformat": 4,
  "vscode": {
   "interpreter": {
    "hash": "57468ee44aa95dd4e25b20d5089bdc40d0474ae5901f7acf4c61317f32db0a15"
   }
  }
 },
 "nbformat": 4,
 "nbformat_minor": 2
}
