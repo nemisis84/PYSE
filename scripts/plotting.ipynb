{
 "cells": [
  {
   "cell_type": "markdown",
   "metadata": {},
   "source": [
    "# Plotting"
   ]
  },
  {
   "cell_type": "code",
   "execution_count": 3,
   "metadata": {},
   "outputs": [],
   "source": [
    "import simpy\n",
    "import numpy as np\n",
    "import pandas as pd\n",
    "import main"
   ]
  },
  {
   "cell_type": "code",
   "execution_count": 5,
   "metadata": {},
   "outputs": [
    {
     "ename": "NameError",
     "evalue": "name 'N' is not defined",
     "output_type": "error",
     "traceback": [
      "\u001b[1;31m---------------------------------------------------------------------------\u001b[0m",
      "\u001b[1;31mNameError\u001b[0m                                 Traceback (most recent call last)",
      "Cell \u001b[1;32mIn [5], line 15\u001b[0m\n\u001b[0;32m     13\u001b[0m \u001b[38;5;28;01mfor\u001b[39;00m n_employyers \u001b[38;5;129;01min\u001b[39;00m \u001b[38;5;28mrange\u001b[39m(\u001b[38;5;241m1\u001b[39m, employeers_range\u001b[38;5;241m+\u001b[39m\u001b[38;5;241m1\u001b[39m):\n\u001b[0;32m     14\u001b[0m     \u001b[38;5;28;01mfor\u001b[39;00m i \u001b[38;5;129;01min\u001b[39;00m \u001b[38;5;28mrange\u001b[39m(simulations):\n\u001b[1;32m---> 15\u001b[0m         sim \u001b[38;5;241m=\u001b[39m np\u001b[38;5;241m.\u001b[39marray(main\u001b[38;5;241m.\u001b[39mrun_sim(n_employyers))\n\u001b[0;32m     16\u001b[0m         results[n_employyers\u001b[38;5;241m-\u001b[39m\u001b[38;5;241m1\u001b[39m][i] \u001b[38;5;241m=\u001b[39m sim\u001b[38;5;241m.\u001b[39mmean()\n\u001b[0;32m     18\u001b[0m \u001b[38;5;28mprint\u001b[39m(results)\n",
      "File \u001b[1;32mc:\\Users\\super\\Documents\\3. semester komtek\\Pålitelighet og ytelse med simulering\\PYSE\\scripts\\main.py:132\u001b[0m, in \u001b[0;36mrun_sim\u001b[1;34m(number_of_employees)\u001b[0m\n\u001b[0;32m    130\u001b[0m env \u001b[39m=\u001b[39m simpy\u001b[39m.\u001b[39mEnvironment()\n\u001b[0;32m    131\u001b[0m bins \u001b[39m=\u001b[39m []\n\u001b[1;32m--> 132\u001b[0m \u001b[39mfor\u001b[39;00m i \u001b[39min\u001b[39;00m \u001b[39mrange\u001b[39m(\u001b[39mlen\u001b[39m(N)):\n\u001b[0;32m    133\u001b[0m     bins\u001b[39m.\u001b[39mappend(simpy\u001b[39m.\u001b[39mContainer(env, init\u001b[39m=\u001b[39mN[i], capacity\u001b[39m=\u001b[39mN[i]))\n\u001b[0;32m    134\u001b[0m checkout \u001b[39m=\u001b[39m simpy\u001b[39m.\u001b[39mResource(env, capacity\u001b[39m=\u001b[39m\u001b[39m4\u001b[39m)\n",
      "\u001b[1;31mNameError\u001b[0m: name 'N' is not defined"
     ]
    }
   ],
   "source": [
    "custumer_interval_lambda = 1/3\n",
    "moving_time_lambda = 2\n",
    "scanning_time = 0.1\n",
    "paying_time = 0.2\n",
    "time_to_pick_item = np.array([0.1, 0.15, 0.1, 0.1, 0.15, 0.1, 0.2])\n",
    "N = np.array([100, 150, 50, 150, 80, 40, 250])\n",
    "refilling_time = np.array([60, 36, 42, 42, 30, 60, 90])\n",
    "\n",
    "employeers_range = 10\n",
    "simulations = 3\n",
    "\n",
    "results = np.zeros((employeers_range, simulations))\n",
    "for n_employyers in range(1, employeers_range+1):\n",
    "    for i in range(simulations):\n",
    "        sim = np.array(main.run_sim(n_employyers, custumer_interval_lambda, moving_time_lambda,\n",
    "                                   scanning_time, paying_time, time_to_pick_item, N, refilling_time))\n",
    "        results[n_employyers-1][i] = sim.mean()\n",
    "\n",
    "print(results)\n",
    "df = pd.DataFrame(results, columns=[\n",
    "                    f\"Run {i}\" for i in range(len(results[1]))])\n",
    "print(df)"
   ]
  }
 ],
 "metadata": {
  "kernelspec": {
   "display_name": "Python 3.10.6 ('PYSE-env')",
   "language": "python",
   "name": "python3"
  },
  "language_info": {
   "codemirror_mode": {
    "name": "ipython",
    "version": 3
   },
   "file_extension": ".py",
   "mimetype": "text/x-python",
   "name": "python",
   "nbconvert_exporter": "python",
   "pygments_lexer": "ipython3",
   "version": "3.10.6"
  },
  "orig_nbformat": 4,
  "vscode": {
   "interpreter": {
    "hash": "c4fe711f02a447d5eef8be0d4bed3e1b6249413ecea7de3cbe47ded696ca774a"
   }
  }
 },
 "nbformat": 4,
 "nbformat_minor": 2
}
